{
 "cells": [
  {
   "cell_type": "code",
   "execution_count": 28,
   "id": "57ea4c0c-811d-4ac5-b794-b29038e62a9e",
   "metadata": {},
   "outputs": [
    {
     "name": "stdout",
     "output_type": "stream",
     "text": [
      "Plain text: 1393360781\n",
      "Cipher text: 313194730\n",
      "Key text: 32766\n",
      "Plaintext: 1393360781\n",
      "ciphertext: 313194730\n"
     ]
    }
   ],
   "source": [
    "def bit(x,n):\n",
    "\t\t\t\ty=(((x)>>(n))&1)\n",
    "\t\t\t\treturn y\n",
    "def g5(x,a,b,c,d,e):\n",
    "\t\t\t\ty=(bit(x,a)+bit(x,b)*2+bit(x,c)*4+bit(x,d)*8+bit(x,e)*16)\n",
    "\t\t\t\treturn y\n",
    "KeeLoq_NLF=0x3A5C742E\n",
    "\n",
    "\n",
    "key = 32766&0xFFFFFFFFFFFFFFFF\n",
    "ciph = 313194730&0xFFFFFFFF\n",
    "plain = 1393360781&0xFFFFFFFF\n",
    "\n",
    "print (f\"Plain text: {plain}\")\n",
    "print (f\"Cipher text: {ciph}\")\n",
    "print (f\"Key text: {key}\")\n",
    "\n",
    "\n",
    "\n",
    "def keeloq_decrypt(cipher,key):\n",
    "    temp = cipher\n",
    "    for r in range(528) :\n",
    "        temp = (temp<<1)^bit(temp,31)^bit(temp,15)^bit(key,(15-r)&63)^bit(KeeLoq_NLF,g5(temp,0,8,19,25,30))\n",
    "    return(temp&0xFFFFFFFF)\n",
    "\n",
    "\n",
    "def keeloq_encrypt(plain,key):\n",
    "    temp = plain\n",
    "    for r in range(528) :\n",
    "        temp = (temp>>1) ^ ( (bit(temp,0)^bit(temp,16)^bit(key,r&63)^bit(KeeLoq_NLF,g5(temp,1,9,20,26,31)))<<31)\n",
    "    return(temp&0xFFFFFFFF)\n",
    "\n",
    "plain_result = keeloq_decrypt(ciph,key)\n",
    "ciph_result = keeloq_encrypt(plain,key)\n",
    "\n",
    "print (f\"Plaintext: {plain_result}\")\n",
    "\n",
    "\n",
    "print (f\"ciphertext: {ciph_result}\")"
   ]
  },
  {
   "cell_type": "code",
   "execution_count": 20,
   "id": "d83e14bb-0a4d-4d85-b2a4-ddc537e48561",
   "metadata": {},
   "outputs": [
    {
     "name": "stdout",
     "output_type": "stream",
     "text": [
      "313194730\n",
      "Plaintext: 1393360781\n",
      "Ciphertext: 313194730\n"
     ]
    }
   ],
   "source": [
    "import ctypes\n",
    "\n",
    "# Load the shared library\n",
    "lib = ctypes.CDLL('./keeloq.so')  # Use './example.dll' for Windows\n",
    "\n",
    "print(ciph) \n",
    "\n",
    "# Call the C function\n",
    "result = lib.KeeLoq_Decrypt( ciph,key) &0xFFFFFFFF\n",
    "\n",
    "print(f\"Plaintext: {result}\")\n",
    "\n",
    "# Call the C function\n",
    "result = lib.KeeLoq_Encrypt( plain,key) &0xFFFFFFFF\n",
    "\n",
    "print(f\"Ciphertext: {result}\")"
   ]
  }
 ],
 "metadata": {
  "kernelspec": {
   "display_name": "Python 3 (ipykernel)",
   "language": "python",
   "name": "python3"
  },
  "language_info": {
   "codemirror_mode": {
    "name": "ipython",
    "version": 3
   },
   "file_extension": ".py",
   "mimetype": "text/x-python",
   "name": "python",
   "nbconvert_exporter": "python",
   "pygments_lexer": "ipython3",
   "version": "3.9.2"
  }
 },
 "nbformat": 4,
 "nbformat_minor": 5
}
